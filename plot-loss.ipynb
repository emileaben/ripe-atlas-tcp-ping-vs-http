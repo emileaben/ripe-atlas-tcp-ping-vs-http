{
 "cells": [
  {
   "cell_type": "code",
   "execution_count": 2,
   "metadata": {
    "collapsed": false
   },
   "outputs": [
    {
     "name": "stdout",
     "output_type": "stream",
     "text": [
      "#prb            168416\n",
      "dst             168416\n",
      "af              168416\n",
      "tcp10            48768\n",
      "icmp10          153007\n",
      "diff             43214\n",
      "tcpvalcount     168416\n",
      "icmpvalcount    168416\n",
      "tcpcount        168416\n",
      "icmpcount       168416\n",
      "dtype: int64\n",
      "#prb            43214\n",
      "dst             43214\n",
      "af              43214\n",
      "tcp10           43214\n",
      "icmp10          43214\n",
      "diff            43214\n",
      "tcpvalcount     43214\n",
      "icmpvalcount    43214\n",
      "tcpcount        43214\n",
      "icmpcount       43214\n",
      "dtype: int64\n"
     ]
    }
   ],
   "source": [
    "import pandas as pd\n",
    "\n",
    "df = pd.read_csv(\"analysed-msm.txt\", sep=' ', na_values='None')\n",
    "\n",
    "print df.count()\n",
    "\n",
    "df = df.dropna(axis=0)\n",
    "\n",
    "print df.count()\n",
    "\n",
    "\n",
    "df[\"icmplosspct\"] = 100-(df['icmpvalcount']*100.0/df['icmpcount'])\n",
    "df[\"tcplosspct\"]  = 100-(df['tcpvalcount']*100.0/df['tcpcount'])\n",
    "\n",
    "#df.head()\n"
   ]
  },
  {
   "cell_type": "code",
   "execution_count": 3,
   "metadata": {
    "collapsed": false
   },
   "outputs": [],
   "source": [
    "import numpy as np\n",
    "from scipy import stats\n",
    "\n",
    "x=np.array( df['tcplosspct'] )\n",
    "y=np.array( df['icmplosspct'] )\n",
    "\n",
    "# Calculate the point density\n",
    "xy = np.vstack([x,y])\n",
    "dens = stats.gaussian_kde(xy, bw_method=0.05)\n",
    "z = dens(xy)\n",
    "\n",
    "# Sort the points by density, so that the densest points are plotted last\n",
    "idx = z.argsort()\n",
    "x, y, z = x[idx], y[idx], z[idx]"
   ]
  },
  {
   "cell_type": "code",
   "execution_count": 4,
   "metadata": {
    "collapsed": false
   },
   "outputs": [
    {
     "name": "stdout",
     "output_type": "stream",
     "text": [
      "Using matplotlib backend: MacOSX\n"
     ]
    }
   ],
   "source": [
    "import matplotlib.pyplot as plt\n",
    "\n",
    "%matplotlib auto\n",
    "\n",
    "fig = plt.figure(figsize=(8, 8))\n",
    "plt.grid()\n",
    "plt.xlim(-1,101)\n",
    "plt.ylim(-1,101)\n",
    "plt.xlabel(\"TCP loss %\")\n",
    "plt.ylabel(\"ICMP loss %\")\n",
    "plt.scatter(x, y, c=z, s=30, marker='.', edgecolor='')\n",
    "plt.show()\n",
    "plt.savefig(\"tcp-icmp-loss.pdf\")\n",
    "\n",
    "fig = plt.figure(figsize=(8, 8))\n",
    "plt.xlim(-0.01,2)\n",
    "plt.ylim(-0.01,2)\n",
    "plt.xlabel(\"TCP loss %\")\n",
    "plt.ylabel(\"ICMP loss %\")\n",
    "plt.grid()\n",
    "plt.scatter(x, y, c=z, s=30, marker='.', edgecolor='')\n",
    "plt.show()\n",
    "plt.savefig(\"tcp-icmp-loss-zoom.pdf\")\n",
    "\n"
   ]
  },
  {
   "cell_type": "code",
   "execution_count": 9,
   "metadata": {
    "collapsed": false
   },
   "outputs": [
    {
     "name": "stdout",
     "output_type": "stream",
     "text": [
      "size with 0,0: 43214\n",
      "size without 0,0: 11359\n"
     ]
    }
   ],
   "source": [
    "# remove zeros\n",
    "print \"size with 0,0: %s\" % len(df.index)\n",
    "dflog = df[ (df['tcplosspct'] != 0) & (df['icmplosspct'] != 0) ]\n",
    "print \"size without 0,0: %s\" % len(dflog.index)"
   ]
  },
  {
   "cell_type": "code",
   "execution_count": 8,
   "metadata": {
    "collapsed": false
   },
   "outputs": [],
   "source": [
    "plt.xscale('log')\n",
    "plt.yscale('log')\n",
    "plt.xlabel(\"TCP loss %\")\n",
    "plt.ylabel(\"ICMP loss %\")\n",
    "plt.xlim(0.08,110)\n",
    "plt.ylim(0.08,110)\n",
    "\n",
    "plt.scatter(dflog['tcplosspct'], dflog['icmplosspct'], s=30, marker='.', edgecolor='', alpha=0.05)\n",
    "plt.savefig(\"tcp-icmp-loss-log2.pdf\")"
   ]
  },
  {
   "cell_type": "code",
   "execution_count": 6,
   "metadata": {
    "collapsed": false
   },
   "outputs": [
    {
     "name": "stderr",
     "output_type": "stream",
     "text": [
      "/usr/local/lib/python2.7/site-packages/matplotlib/pyplot.py:516: RuntimeWarning: More than 20 figures have been opened. Figures created through the pyplot interface (`matplotlib.pyplot.figure`) are retained until explicitly closed and may consume too much memory. (To control this warning, see the rcParam `figure.max_open_warning`).\n",
      "  max_open_warning, RuntimeWarning)\n"
     ]
    }
   ],
   "source": [
    "for groupname,fr in df.groupby('dst'):\n",
    "    \n",
    "    fig = plt.figure(figsize=(8, 8))\n",
    "    plt.grid()\n",
    "    #plt.yscale('log')\n",
    "    #plt.xscale('log')\n",
    "    plt.xlim(-1,101)\n",
    "    plt.ylim(-1,101)\n",
    "    plt.title(\"only for: %s\" % groupname)\n",
    "    plt.xlabel(\"TCP loss %\")\n",
    "    plt.ylabel(\"ICMP loss %\")\n",
    "    plt.scatter(fr['tcplosspct'], fr['icmplosspct'], c=fr['#prb'], s=30, marker='.', edgecolor='')\n",
    "    plt.show()\n"
   ]
  }
 ],
 "metadata": {
  "kernelspec": {
   "display_name": "Python 2",
   "language": "python",
   "name": "python2"
  },
  "language_info": {
   "codemirror_mode": {
    "name": "ipython",
    "version": 2
   },
   "file_extension": ".py",
   "mimetype": "text/x-python",
   "name": "python",
   "nbconvert_exporter": "python",
   "pygments_lexer": "ipython2",
   "version": "2.7.11"
  }
 },
 "nbformat": 4,
 "nbformat_minor": 0
}
